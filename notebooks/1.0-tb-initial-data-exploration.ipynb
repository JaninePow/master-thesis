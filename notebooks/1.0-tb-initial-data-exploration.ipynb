{
 "cells": [
  {
   "cell_type": "code",
   "execution_count": null,
   "metadata": {},
   "outputs": [],
   "source": [
    "from pathlib import Path\n",
    "import cv2\n",
    "import matplotlib.pyplot as plt\n",
    "import random\n",
    "random.seed(10)\n",
    "\n",
    "\n",
    "#for debug \n",
    "import numpy as np"
   ]
  },
  {
   "cell_type": "code",
   "execution_count": null,
   "metadata": {},
   "outputs": [],
   "source": [
    "def get_raw_data(path):\n",
    "    p = Path(path).glob('**/*.jpg')\n",
    "    files = [x for x in p if x.is_file()]\n",
    "    #return files\n",
    "    imgs = {}\n",
    "    for file in files:\n",
    "        imgs[str(file)] = cv2.imread(str(file))\n",
    "    return imgs"
   ]
  },
  {
   "cell_type": "code",
   "execution_count": null,
   "metadata": {},
   "outputs": [],
   "source": [
    "path = '/Users/beantown/PycharmProjects/master-thesis/data/raw'\n",
    "files = get_raw_data(path)"
   ]
  },
  {
   "cell_type": "code",
   "execution_count": null,
   "metadata": {},
   "outputs": [],
   "source": [
    "def show_example(files, keep_size=True, n=1, hide_spines=False, gray=False):\n",
    "    for i in range(n):\n",
    "        dpi = 80\n",
    "\n",
    "        key, value = random.choice(list(files.items()))\n",
    "        if not gray:\n",
    "            im_data = cv2.cvtColor(value, cv2.COLOR_BGR2RGB)\n",
    "        else:\n",
    "            im_data = value.copy()\n",
    "            \n",
    "        title = str(key).split('/')[-1].split('.')[0]\n",
    "\n",
    "\n",
    "        if keep_size:\n",
    "            if gray:\n",
    "                height, width = im_data.shape\n",
    "            else:\n",
    "                height, width, _ = im_data.shape\n",
    "\n",
    "            # What size does the figure need to be in inches to fit the image?\n",
    "            figsize = width / float(dpi), height / float(dpi)\n",
    "\n",
    "            # Create a figure of the right size with one axes that takes up the full figure\n",
    "            fig = plt.figure(figsize=figsize)\n",
    "            ax = fig.add_axes([0, 0, 1, 1])\n",
    "\n",
    "            # Hide spines, ticks, etc.\n",
    "            #ax.axis('off')\n",
    "            if hide_spines:\n",
    "                ax.axis('off')\n",
    "            else:\n",
    "                ax.tick_params(axis='both', which='major', labelsize=40)\n",
    "                ax.tick_params(axis='both', which='minor', labelsize=30)\n",
    "            ax.set_title(title, pad=30, fontsize=50)\n",
    "\n",
    "            # Display the image.\n",
    "            if gray:\n",
    "                ax.imshow(im_data, cmap='gray')\n",
    "            else:\n",
    "                ax.imshow(im_data)\n",
    "        else:\n",
    "            plt.title(title, pad=20, fontsize=20)\n",
    "            if hide_spines:\n",
    "                plt.axis('off')\n",
    "            if gray:\n",
    "                plt.imshow(im_data, cmap='gray')\n",
    "            else:\n",
    "                plt.imshow(im_data)\n",
    "\n",
    "        plt.show()    "
   ]
  },
  {
   "cell_type": "code",
   "execution_count": null,
   "metadata": {},
   "outputs": [],
   "source": [
    "show_example(files, keep_size=True, n=2,  hide_spines=False)"
   ]
  },
  {
   "cell_type": "code",
   "execution_count": null,
   "metadata": {},
   "outputs": [],
   "source": [
    "def get_fibers(files):\n",
    "    fiber_files = {}\n",
    "    for key, value in files.items():\n",
    "        im_gray = cv2.cvtColor(value, cv2.COLOR_BGR2GRAY)\n",
    "        blurred = cv2.GaussianBlur(im_gray, (7, 7), 0)\n",
    "        fiber_file = cv2.adaptiveThreshold(blurred, 200, cv2.ADAPTIVE_THRESH_GAUSSIAN_C, cv2.THRESH_BINARY, 31, 2)\n",
    "        fiber_files[key] = fiber_file\n",
    "    return fiber_files"
   ]
  },
  {
   "cell_type": "code",
   "execution_count": null,
   "metadata": {},
   "outputs": [],
   "source": [
    "fiber_files = get_fibers(files)"
   ]
  },
  {
   "cell_type": "code",
   "execution_count": null,
   "metadata": {},
   "outputs": [],
   "source": [
    "show_example(fiber_files, keep_size=True, n=10,  hide_spines=False, gray=True)"
   ]
  },
  {
   "cell_type": "code",
   "execution_count": null,
   "metadata": {},
   "outputs": [],
   "source": []
  }
 ],
 "metadata": {
  "kernelspec": {
   "display_name": "thesis-exploratory",
   "language": "python",
   "name": "thesis-exploratory"
  },
  "language_info": {
   "codemirror_mode": {
    "name": "ipython",
    "version": 3
   },
   "file_extension": ".py",
   "mimetype": "text/x-python",
   "name": "python",
   "nbconvert_exporter": "python",
   "pygments_lexer": "ipython3",
   "version": "3.8.5"
  }
 },
 "nbformat": 4,
 "nbformat_minor": 4
}
